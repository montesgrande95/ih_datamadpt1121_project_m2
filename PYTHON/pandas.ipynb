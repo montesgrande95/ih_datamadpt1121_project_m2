{
 "cells": [
  {
   "cell_type": "code",
   "execution_count": 1,
   "metadata": {},
   "outputs": [],
   "source": [
    "import pandas as pd \n",
    "import os "
   ]
  },
  {
   "cell_type": "code",
   "execution_count": 3,
   "metadata": {},
   "outputs": [
    {
     "data": {
      "text/plain": [
       "['NEW_CSV.csv']"
      ]
     },
     "execution_count": 3,
     "metadata": {},
     "output_type": "execute_result"
    }
   ],
   "source": [
    "os.listdir(\"../DATA\")"
   ]
  },
  {
   "cell_type": "code",
   "execution_count": 5,
   "metadata": {},
   "outputs": [
    {
     "data": {
      "text/html": [
       "<div>\n",
       "<style scoped>\n",
       "    .dataframe tbody tr th:only-of-type {\n",
       "        vertical-align: middle;\n",
       "    }\n",
       "\n",
       "    .dataframe tbody tr th {\n",
       "        vertical-align: top;\n",
       "    }\n",
       "\n",
       "    .dataframe thead th {\n",
       "        text-align: right;\n",
       "    }\n",
       "</style>\n",
       "<table border=\"1\" class=\"dataframe\">\n",
       "  <thead>\n",
       "    <tr style=\"text-align: right;\">\n",
       "      <th></th>\n",
       "      <th>index_id</th>\n",
       "      <th>cut</th>\n",
       "      <th>color</th>\n",
       "      <th>clarity</th>\n",
       "      <th>price</th>\n",
       "      <th>city</th>\n",
       "      <th>carat</th>\n",
       "      <th>depth</th>\n",
       "      <th>table</th>\n",
       "      <th>x</th>\n",
       "      <th>y</th>\n",
       "      <th>z</th>\n",
       "    </tr>\n",
       "  </thead>\n",
       "  <tbody>\n",
       "    <tr>\n",
       "      <th>0</th>\n",
       "      <td>5feceb66ffc86f38d952786c6d696c79c2dbc239dd4e91...</td>\n",
       "      <td>Premium</td>\n",
       "      <td>J</td>\n",
       "      <td>VS2</td>\n",
       "      <td>4268</td>\n",
       "      <td>Dubai</td>\n",
       "      <td>1.21</td>\n",
       "      <td>62.4</td>\n",
       "      <td>58.0</td>\n",
       "      <td>6.83</td>\n",
       "      <td>6.79</td>\n",
       "      <td>4.25</td>\n",
       "    </tr>\n",
       "    <tr>\n",
       "      <th>1</th>\n",
       "      <td>6b86b273ff34fce19d6b804eff5a3f5747ada4eaa22f1d...</td>\n",
       "      <td>Very Good</td>\n",
       "      <td>H</td>\n",
       "      <td>VS2</td>\n",
       "      <td>505</td>\n",
       "      <td>Kimberly</td>\n",
       "      <td>0.32</td>\n",
       "      <td>63.0</td>\n",
       "      <td>57.0</td>\n",
       "      <td>4.35</td>\n",
       "      <td>4.38</td>\n",
       "      <td>2.75</td>\n",
       "    </tr>\n",
       "    <tr>\n",
       "      <th>2</th>\n",
       "      <td>d4735e3a265e16eee03f59718b9b5d03019c07d8b6c51f...</td>\n",
       "      <td>Fair</td>\n",
       "      <td>G</td>\n",
       "      <td>VS1</td>\n",
       "      <td>2686</td>\n",
       "      <td>Las Vegas</td>\n",
       "      <td>0.71</td>\n",
       "      <td>65.5</td>\n",
       "      <td>55.0</td>\n",
       "      <td>5.62</td>\n",
       "      <td>5.53</td>\n",
       "      <td>3.65</td>\n",
       "    </tr>\n",
       "    <tr>\n",
       "      <th>3</th>\n",
       "      <td>4e07408562bedb8b60ce05c1decfe3ad16b72230967de0...</td>\n",
       "      <td>Good</td>\n",
       "      <td>D</td>\n",
       "      <td>SI1</td>\n",
       "      <td>738</td>\n",
       "      <td>Kimberly</td>\n",
       "      <td>0.41</td>\n",
       "      <td>63.8</td>\n",
       "      <td>56.0</td>\n",
       "      <td>4.68</td>\n",
       "      <td>4.72</td>\n",
       "      <td>3.00</td>\n",
       "    </tr>\n",
       "    <tr>\n",
       "      <th>4</th>\n",
       "      <td>4b227777d4dd1fc61c6f884f48641d02b4d121d3fd328c...</td>\n",
       "      <td>Ideal</td>\n",
       "      <td>G</td>\n",
       "      <td>SI1</td>\n",
       "      <td>4882</td>\n",
       "      <td>Dubai</td>\n",
       "      <td>1.02</td>\n",
       "      <td>60.5</td>\n",
       "      <td>59.0</td>\n",
       "      <td>6.55</td>\n",
       "      <td>6.51</td>\n",
       "      <td>3.95</td>\n",
       "    </tr>\n",
       "    <tr>\n",
       "      <th>...</th>\n",
       "      <td>...</td>\n",
       "      <td>...</td>\n",
       "      <td>...</td>\n",
       "      <td>...</td>\n",
       "      <td>...</td>\n",
       "      <td>...</td>\n",
       "      <td>...</td>\n",
       "      <td>...</td>\n",
       "      <td>...</td>\n",
       "      <td>...</td>\n",
       "      <td>...</td>\n",
       "      <td>...</td>\n",
       "    </tr>\n",
       "    <tr>\n",
       "      <th>40450</th>\n",
       "      <td>f0bc79169405ebeb24e308055156b946ffd819db9b4f75...</td>\n",
       "      <td>Ideal</td>\n",
       "      <td>G</td>\n",
       "      <td>VS1</td>\n",
       "      <td>10070</td>\n",
       "      <td>Antwerp</td>\n",
       "      <td>1.34</td>\n",
       "      <td>62.7</td>\n",
       "      <td>57.0</td>\n",
       "      <td>7.10</td>\n",
       "      <td>7.04</td>\n",
       "      <td>4.43</td>\n",
       "    </tr>\n",
       "    <tr>\n",
       "      <th>40451</th>\n",
       "      <td>339916a23bf22b052b54cb2a9b36ee8418c1c68b46acad...</td>\n",
       "      <td>Good</td>\n",
       "      <td>F</td>\n",
       "      <td>SI2</td>\n",
       "      <td>12615</td>\n",
       "      <td>Madrid</td>\n",
       "      <td>2.02</td>\n",
       "      <td>57.1</td>\n",
       "      <td>60.0</td>\n",
       "      <td>8.31</td>\n",
       "      <td>8.25</td>\n",
       "      <td>4.73</td>\n",
       "    </tr>\n",
       "    <tr>\n",
       "      <th>40452</th>\n",
       "      <td>46957922b99954654c1deb8d854c3f069bf118b2ce9415...</td>\n",
       "      <td>Ideal</td>\n",
       "      <td>H</td>\n",
       "      <td>SI1</td>\n",
       "      <td>5457</td>\n",
       "      <td>Kimberly</td>\n",
       "      <td>1.01</td>\n",
       "      <td>62.7</td>\n",
       "      <td>56.0</td>\n",
       "      <td>6.37</td>\n",
       "      <td>6.42</td>\n",
       "      <td>4.01</td>\n",
       "    </tr>\n",
       "    <tr>\n",
       "      <th>40453</th>\n",
       "      <td>9d733392d362d5c6f1d9b9659b601c7d4b5a1c1c8df579...</td>\n",
       "      <td>Ideal</td>\n",
       "      <td>J</td>\n",
       "      <td>VS1</td>\n",
       "      <td>456</td>\n",
       "      <td>Kimberly</td>\n",
       "      <td>0.33</td>\n",
       "      <td>61.9</td>\n",
       "      <td>54.3</td>\n",
       "      <td>4.45</td>\n",
       "      <td>4.47</td>\n",
       "      <td>2.76</td>\n",
       "    </tr>\n",
       "    <tr>\n",
       "      <th>40454</th>\n",
       "      <td>a02744a70faa594d240b067f21fcc23a8d17cd1098a9fb...</td>\n",
       "      <td>Ideal</td>\n",
       "      <td>I</td>\n",
       "      <td>SI1</td>\n",
       "      <td>6232</td>\n",
       "      <td>London</td>\n",
       "      <td>1.24</td>\n",
       "      <td>62.0</td>\n",
       "      <td>58.0</td>\n",
       "      <td>6.83</td>\n",
       "      <td>6.88</td>\n",
       "      <td>4.25</td>\n",
       "    </tr>\n",
       "  </tbody>\n",
       "</table>\n",
       "<p>40455 rows × 12 columns</p>\n",
       "</div>"
      ],
      "text/plain": [
       "                                                index_id        cut color  \\\n",
       "0      5feceb66ffc86f38d952786c6d696c79c2dbc239dd4e91...    Premium     J   \n",
       "1      6b86b273ff34fce19d6b804eff5a3f5747ada4eaa22f1d...  Very Good     H   \n",
       "2      d4735e3a265e16eee03f59718b9b5d03019c07d8b6c51f...       Fair     G   \n",
       "3      4e07408562bedb8b60ce05c1decfe3ad16b72230967de0...       Good     D   \n",
       "4      4b227777d4dd1fc61c6f884f48641d02b4d121d3fd328c...      Ideal     G   \n",
       "...                                                  ...        ...   ...   \n",
       "40450  f0bc79169405ebeb24e308055156b946ffd819db9b4f75...      Ideal     G   \n",
       "40451  339916a23bf22b052b54cb2a9b36ee8418c1c68b46acad...       Good     F   \n",
       "40452  46957922b99954654c1deb8d854c3f069bf118b2ce9415...      Ideal     H   \n",
       "40453  9d733392d362d5c6f1d9b9659b601c7d4b5a1c1c8df579...      Ideal     J   \n",
       "40454  a02744a70faa594d240b067f21fcc23a8d17cd1098a9fb...      Ideal     I   \n",
       "\n",
       "      clarity  price       city  carat  depth  table     x     y     z  \n",
       "0         VS2   4268      Dubai   1.21   62.4   58.0  6.83  6.79  4.25  \n",
       "1         VS2    505   Kimberly   0.32   63.0   57.0  4.35  4.38  2.75  \n",
       "2         VS1   2686  Las Vegas   0.71   65.5   55.0  5.62  5.53  3.65  \n",
       "3         SI1    738   Kimberly   0.41   63.8   56.0  4.68  4.72  3.00  \n",
       "4         SI1   4882      Dubai   1.02   60.5   59.0  6.55  6.51  3.95  \n",
       "...       ...    ...        ...    ...    ...    ...   ...   ...   ...  \n",
       "40450     VS1  10070    Antwerp   1.34   62.7   57.0  7.10  7.04  4.43  \n",
       "40451     SI2  12615     Madrid   2.02   57.1   60.0  8.31  8.25  4.73  \n",
       "40452     SI1   5457   Kimberly   1.01   62.7   56.0  6.37  6.42  4.01  \n",
       "40453     VS1    456   Kimberly   0.33   61.9   54.3  4.45  4.47  2.76  \n",
       "40454     SI1   6232     London   1.24   62.0   58.0  6.83  6.88  4.25  \n",
       "\n",
       "[40455 rows x 12 columns]"
      ]
     },
     "execution_count": 5,
     "metadata": {},
     "output_type": "execute_result"
    }
   ],
   "source": [
    "diamonds = pd.read_csv(\"../DATA/NEW_CSV.csv\")\n",
    "diamonds"
   ]
  },
  {
   "cell_type": "code",
   "execution_count": 6,
   "metadata": {},
   "outputs": [
    {
     "data": {
      "text/plain": [
       "index_id     object\n",
       "cut          object\n",
       "color        object\n",
       "clarity      object\n",
       "price         int64\n",
       "city         object\n",
       "carat       float64\n",
       "depth       float64\n",
       "table       float64\n",
       "x           float64\n",
       "y           float64\n",
       "z           float64\n",
       "dtype: object"
      ]
     },
     "execution_count": 6,
     "metadata": {},
     "output_type": "execute_result"
    }
   ],
   "source": [
    "diamonds.dtypes #TYPE OF VALUES PER COLUMN"
   ]
  },
  {
   "cell_type": "code",
   "execution_count": 7,
   "metadata": {},
   "outputs": [
    {
     "data": {
      "text/plain": [
       "(40455, 12)"
      ]
     },
     "execution_count": 7,
     "metadata": {},
     "output_type": "execute_result"
    }
   ],
   "source": [
    "diamonds.shape  #ROWS X COLUMNS "
   ]
  },
  {
   "cell_type": "code",
   "execution_count": 8,
   "metadata": {},
   "outputs": [
    {
     "data": {
      "text/plain": [
       "array(['index_id', 'cut', 'color', 'clarity', 'price', 'city', 'carat',\n",
       "       'depth', 'table', 'x', 'y', 'z'], dtype=object)"
      ]
     },
     "execution_count": 8,
     "metadata": {},
     "output_type": "execute_result"
    }
   ],
   "source": [
    "diamonds.columns.values"
   ]
  },
  {
   "cell_type": "code",
   "execution_count": 9,
   "metadata": {},
   "outputs": [
    {
     "data": {
      "text/html": [
       "<div>\n",
       "<style scoped>\n",
       "    .dataframe tbody tr th:only-of-type {\n",
       "        vertical-align: middle;\n",
       "    }\n",
       "\n",
       "    .dataframe tbody tr th {\n",
       "        vertical-align: top;\n",
       "    }\n",
       "\n",
       "    .dataframe thead th {\n",
       "        text-align: right;\n",
       "    }\n",
       "</style>\n",
       "<table border=\"1\" class=\"dataframe\">\n",
       "  <thead>\n",
       "    <tr style=\"text-align: right;\">\n",
       "      <th></th>\n",
       "      <th>price</th>\n",
       "      <th>carat</th>\n",
       "      <th>depth</th>\n",
       "      <th>table</th>\n",
       "      <th>x</th>\n",
       "      <th>y</th>\n",
       "      <th>z</th>\n",
       "    </tr>\n",
       "  </thead>\n",
       "  <tbody>\n",
       "    <tr>\n",
       "      <th>count</th>\n",
       "      <td>40455.000000</td>\n",
       "      <td>40455.000000</td>\n",
       "      <td>40455.000000</td>\n",
       "      <td>40455.000000</td>\n",
       "      <td>40455.000000</td>\n",
       "      <td>40455.000000</td>\n",
       "      <td>40455.000000</td>\n",
       "    </tr>\n",
       "    <tr>\n",
       "      <th>mean</th>\n",
       "      <td>3928.444469</td>\n",
       "      <td>0.797706</td>\n",
       "      <td>61.752841</td>\n",
       "      <td>57.446133</td>\n",
       "      <td>5.729392</td>\n",
       "      <td>5.732819</td>\n",
       "      <td>3.537154</td>\n",
       "    </tr>\n",
       "    <tr>\n",
       "      <th>std</th>\n",
       "      <td>3992.416147</td>\n",
       "      <td>0.475544</td>\n",
       "      <td>1.431725</td>\n",
       "      <td>2.233535</td>\n",
       "      <td>1.124453</td>\n",
       "      <td>1.146650</td>\n",
       "      <td>0.697062</td>\n",
       "    </tr>\n",
       "    <tr>\n",
       "      <th>min</th>\n",
       "      <td>326.000000</td>\n",
       "      <td>0.200000</td>\n",
       "      <td>43.000000</td>\n",
       "      <td>43.000000</td>\n",
       "      <td>0.000000</td>\n",
       "      <td>0.000000</td>\n",
       "      <td>0.000000</td>\n",
       "    </tr>\n",
       "    <tr>\n",
       "      <th>25%</th>\n",
       "      <td>945.000000</td>\n",
       "      <td>0.400000</td>\n",
       "      <td>61.000000</td>\n",
       "      <td>56.000000</td>\n",
       "      <td>4.710000</td>\n",
       "      <td>4.720000</td>\n",
       "      <td>2.910000</td>\n",
       "    </tr>\n",
       "    <tr>\n",
       "      <th>50%</th>\n",
       "      <td>2397.000000</td>\n",
       "      <td>0.700000</td>\n",
       "      <td>61.800000</td>\n",
       "      <td>57.000000</td>\n",
       "      <td>5.690000</td>\n",
       "      <td>5.710000</td>\n",
       "      <td>3.520000</td>\n",
       "    </tr>\n",
       "    <tr>\n",
       "      <th>75%</th>\n",
       "      <td>5331.000000</td>\n",
       "      <td>1.040000</td>\n",
       "      <td>62.500000</td>\n",
       "      <td>59.000000</td>\n",
       "      <td>6.540000</td>\n",
       "      <td>6.540000</td>\n",
       "      <td>4.035000</td>\n",
       "    </tr>\n",
       "    <tr>\n",
       "      <th>max</th>\n",
       "      <td>18823.000000</td>\n",
       "      <td>4.500000</td>\n",
       "      <td>79.000000</td>\n",
       "      <td>95.000000</td>\n",
       "      <td>10.230000</td>\n",
       "      <td>58.900000</td>\n",
       "      <td>8.060000</td>\n",
       "    </tr>\n",
       "  </tbody>\n",
       "</table>\n",
       "</div>"
      ],
      "text/plain": [
       "              price         carat         depth         table             x  \\\n",
       "count  40455.000000  40455.000000  40455.000000  40455.000000  40455.000000   \n",
       "mean    3928.444469      0.797706     61.752841     57.446133      5.729392   \n",
       "std     3992.416147      0.475544      1.431725      2.233535      1.124453   \n",
       "min      326.000000      0.200000     43.000000     43.000000      0.000000   \n",
       "25%      945.000000      0.400000     61.000000     56.000000      4.710000   \n",
       "50%     2397.000000      0.700000     61.800000     57.000000      5.690000   \n",
       "75%     5331.000000      1.040000     62.500000     59.000000      6.540000   \n",
       "max    18823.000000      4.500000     79.000000     95.000000     10.230000   \n",
       "\n",
       "                  y             z  \n",
       "count  40455.000000  40455.000000  \n",
       "mean       5.732819      3.537154  \n",
       "std        1.146650      0.697062  \n",
       "min        0.000000      0.000000  \n",
       "25%        4.720000      2.910000  \n",
       "50%        5.710000      3.520000  \n",
       "75%        6.540000      4.035000  \n",
       "max       58.900000      8.060000  "
      ]
     },
     "execution_count": 9,
     "metadata": {},
     "output_type": "execute_result"
    }
   ],
   "source": [
    "diamonds.describe() "
   ]
  },
  {
   "cell_type": "code",
   "execution_count": 10,
   "metadata": {},
   "outputs": [
    {
     "data": {
      "text/plain": [
       "index_id    0\n",
       "cut         0\n",
       "color       0\n",
       "clarity     0\n",
       "price       0\n",
       "city        0\n",
       "carat       0\n",
       "depth       0\n",
       "table       0\n",
       "x           0\n",
       "y           0\n",
       "z           0\n",
       "dtype: int64"
      ]
     },
     "execution_count": 10,
     "metadata": {},
     "output_type": "execute_result"
    }
   ],
   "source": [
    "diamonds.isnull().sum()"
   ]
  },
  {
   "cell_type": "code",
   "execution_count": 11,
   "metadata": {},
   "outputs": [
    {
     "data": {
      "text/plain": [
       "array(['Dubai', 'Kimberly', 'Las Vegas', 'Tel Aviv', 'Amsterdam',\n",
       "       'Zurich', 'Antwerp', 'Madrid', 'Paris', 'Surat', 'Luxembourg',\n",
       "       'London', 'New York City'], dtype=object)"
      ]
     },
     "execution_count": 11,
     "metadata": {},
     "output_type": "execute_result"
    }
   ],
   "source": [
    "diamonds[\"city\"].unique() "
   ]
  },
  {
   "cell_type": "code",
   "execution_count": 12,
   "metadata": {},
   "outputs": [
    {
     "data": {
      "text/plain": [
       "array(['Premium', 'Very Good', 'Fair', 'Good', 'Ideal'], dtype=object)"
      ]
     },
     "execution_count": 12,
     "metadata": {},
     "output_type": "execute_result"
    }
   ],
   "source": [
    "diamonds[\"cut\"].unique()"
   ]
  },
  {
   "cell_type": "code",
   "execution_count": 13,
   "metadata": {},
   "outputs": [
    {
     "data": {
      "text/plain": [
       "array(['J', 'H', 'G', 'D', 'F', 'E', 'I'], dtype=object)"
      ]
     },
     "execution_count": 13,
     "metadata": {},
     "output_type": "execute_result"
    }
   ],
   "source": [
    "diamonds[\"color\"].unique()"
   ]
  },
  {
   "cell_type": "code",
   "execution_count": 14,
   "metadata": {},
   "outputs": [
    {
     "data": {
      "text/plain": [
       "array(['VS2', 'VS1', 'SI1', 'SI2', 'IF', 'VVS1', 'VVS2', 'I1'],\n",
       "      dtype=object)"
      ]
     },
     "execution_count": 14,
     "metadata": {},
     "output_type": "execute_result"
    }
   ],
   "source": [
    "diamonds[\"clarity\"].unique() "
   ]
  }
 ],
 "metadata": {
  "interpreter": {
   "hash": "1e1a39f534b48ded80cce15c0ba392c4b835d178b79c1a3945a8fe294d443c93"
  },
  "kernelspec": {
   "display_name": "Python 3.7.11 64-bit ('IRONHACK': conda)",
   "language": "python",
   "name": "python3"
  },
  "language_info": {
   "codemirror_mode": {
    "name": "ipython",
    "version": 3
   },
   "file_extension": ".py",
   "mimetype": "text/x-python",
   "name": "python",
   "nbconvert_exporter": "python",
   "pygments_lexer": "ipython3",
   "version": "3.7.11"
  },
  "orig_nbformat": 4
 },
 "nbformat": 4,
 "nbformat_minor": 2
}
